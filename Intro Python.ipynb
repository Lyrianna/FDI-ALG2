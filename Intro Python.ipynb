{
 "cells": [
  {
   "cell_type": "markdown",
   "id": "420a037b",
   "metadata": {},
   "source": [
    "# Introduction Python\n",
    "\n",
    "#### Vous allez voir (ou revoir) :\n",
    "- Les variables\n",
    "- Les conditions\n",
    "- Les opérateurs de conditions\n",
    "- Les boucles\n",
    "- Les listes"
   ]
  },
  {
   "cell_type": "markdown",
   "id": "6004608b",
   "metadata": {},
   "source": [
    "---------"
   ]
  },
  {
   "cell_type": "code",
   "execution_count": 3,
   "id": "41a82c2b",
   "metadata": {},
   "outputs": [
    {
     "name": "stdout",
     "output_type": "stream",
     "text": [
      "var1 = 42\n",
      "var2 = Python is a great language\n",
      "var3 = c\n"
     ]
    }
   ],
   "source": [
    "var1 = 42\n",
    "var2 = \"Python is a great language\"\n",
    "var3 = 'c'\n",
    "\n",
    "print(\"var1 =\", var1)\n",
    "print(\"var2 =\", var2)\n",
    "print(\"var3 =\", var3)"
   ]
  },
  {
   "cell_type": "markdown",
   "id": "5a7f938f",
   "metadata": {},
   "source": [
    "---------"
   ]
  },
  {
   "cell_type": "code",
   "execution_count": 4,
   "id": "0bd53a33",
   "metadata": {},
   "outputs": [
    {
     "name": "stdout",
     "output_type": "stream",
     "text": [
      "tmp = 41\n"
     ]
    }
   ],
   "source": [
    "tmp = 42\n",
    "\n",
    "if tmp > 42:\n",
    "    tmp = tmp + 1\n",
    "    tmp = tmp * 1\n",
    "elif tmp == 43:\n",
    "    tmp = tmp + 1000\n",
    "else:\n",
    "    tmp = tmp -1\n",
    "\n",
    "print(\"tmp =\", tmp)"
   ]
  },
  {
   "cell_type": "markdown",
   "id": "674ed853",
   "metadata": {},
   "source": [
    "---------"
   ]
  },
  {
   "cell_type": "code",
   "execution_count": 5,
   "id": "17005d9c",
   "metadata": {},
   "outputs": [
    {
     "name": "stdout",
     "output_type": "stream",
     "text": [
      "tmp = 1042\n"
     ]
    }
   ],
   "source": [
    "tmp = 42\n",
    "\n",
    "if tmp > 42 and tmp < 84:\n",
    "    tmp = tmp + 1\n",
    "    tmp = tmp * 1\n",
    "elif tmp == 42 or tmp == 84:\n",
    "    tmp = tmp + 1000\n",
    "else:\n",
    "    tmp = tmp - 1\n",
    "\n",
    "print(\"tmp =\", tmp)"
   ]
  },
  {
   "cell_type": "markdown",
   "id": "b76c1e96",
   "metadata": {},
   "source": [
    "---------"
   ]
  },
  {
   "cell_type": "code",
   "execution_count": 6,
   "id": "be9d6b33",
   "metadata": {},
   "outputs": [
    {
     "name": "stdout",
     "output_type": "stream",
     "text": [
      "x = 0\n",
      "x = 1\n",
      "x = 2\n",
      "x = 3\n",
      "x = 4\n",
      "x = 5\n",
      "x = 6\n",
      "x = 7\n",
      "x = 8\n",
      "x = 9\n",
      "x = 10\n",
      "x = 11\n",
      "---\n",
      "What's in my list :\n",
      "42\n",
      "66\n",
      "84\n"
     ]
    }
   ],
   "source": [
    "tmp = 0\n",
    "\n",
    "while tmp != 12:\n",
    "    tmp = tmp + 1\n",
    "\n",
    "for x in range(tmp):\n",
    "    print(\"x =\", x)\n",
    "\n",
    "print(\"---\")\n",
    "print(\"What's in my list :\") \n",
    "L = [42, 66, 84]\n",
    "for y in L:\n",
    "    print(y)"
   ]
  },
  {
   "cell_type": "markdown",
   "id": "dba2ccee",
   "metadata": {},
   "source": [
    "---------"
   ]
  },
  {
   "cell_type": "code",
   "execution_count": 7,
   "id": "ab04d028",
   "metadata": {},
   "outputs": [
    {
     "name": "stdout",
     "output_type": "stream",
     "text": [
      "L = []\n",
      "L = [3]\n",
      "M = [1, 2, 3]\n",
      "M = [1, 2]\n",
      "M[0] = 1\n"
     ]
    }
   ],
   "source": [
    "L = []\n",
    "print(\"L =\", L)\n",
    "L.append(3)\n",
    "print(\"L =\", L)\n",
    "\n",
    "M = [1, 2, 3]\n",
    "print(\"M =\", M)\n",
    "\n",
    "M.pop()\n",
    "print(\"M =\", M)\n",
    "print(\"M[0] =\", M[0])"
   ]
  },
  {
   "cell_type": "markdown",
   "id": "61ac66b0",
   "metadata": {},
   "source": [
    "---------"
   ]
  },
  {
   "cell_type": "code",
   "execution_count": 9,
   "id": "2d7f148e",
   "metadata": {
    "hide_input": true
   },
   "outputs": [
    {
     "name": "stdout",
     "output_type": "stream",
     "text": [
      "M = [1, 2, 3]\n",
      "\n",
      "Boucle 1 :\n",
      "\n",
      "i =  0\n",
      "M[i] =  1\n",
      "-\n",
      "i =  1\n",
      "M[i] =  2\n",
      "-\n",
      "i =  2\n",
      "M[i] =  3\n",
      "\n",
      "Boucle 2 :\n",
      "\n",
      "element = 1\n",
      "element = 2\n",
      "element = 3\n"
     ]
    }
   ],
   "source": [
    "M = [1, 2, 3]\n",
    "print(\"M =\", M)\n",
    "\n",
    "print(\"\\nBoucle 1 :\\n\")\n",
    "\n",
    "for i in range(len(M)):\n",
    "    print(\"i = \", i)\n",
    "    print(\"M[i] = \", M[i])\n",
    "    if (i < len(M) -1) :\n",
    "        print(\"-\")\n",
    "    \n",
    "print(\"\\nBoucle 2 :\\n\")\n",
    "\n",
    "for element in M:\n",
    "    print(\"element =\", element)\n"
   ]
  },
  {
   "cell_type": "markdown",
   "id": "61cc4ee4",
   "metadata": {},
   "source": [
    "---------"
   ]
  },
  {
   "cell_type": "code",
   "execution_count": null,
   "id": "b3e90434",
   "metadata": {},
   "outputs": [],
   "source": []
  }
 ],
 "metadata": {
  "celltoolbar": "Éditer les Méta-Données",
  "kernelspec": {
   "display_name": "Python 3",
   "language": "python",
   "name": "python3"
  },
  "language_info": {
   "codemirror_mode": {
    "name": "ipython",
    "version": 3
   },
   "file_extension": ".py",
   "mimetype": "text/x-python",
   "name": "python",
   "nbconvert_exporter": "python",
   "pygments_lexer": "ipython3",
   "version": "3.6.13"
  }
 },
 "nbformat": 4,
 "nbformat_minor": 5
}
