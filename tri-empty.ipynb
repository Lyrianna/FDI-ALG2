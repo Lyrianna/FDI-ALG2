{
 "cells": [
  {
   "cell_type": "markdown",
   "id": "chicken-color",
   "metadata": {},
   "source": [
    "# Algorithmes de tri\n",
    "\n",
    "Afin de voir si vous avez bien compris les notions algorithmiques de tri, nous allons vous demander de coder plusieurs fonctions. Principalement *insertion sort*, *bubble sort* et si vous vous sentez à la hauteur, *quick sort*.\n",
    "\n",
    "## Bubble Sort \n",
    "### Implémentation"
   ]
  },
  {
   "cell_type": "code",
   "execution_count": null,
   "id": "imported-torture",
   "metadata": {},
   "outputs": [],
   "source": [
    "def bubbleSort(arr):\n",
    "    \"\"\"\n",
    "    Implémentation de bubble sort\n",
    "    \"\"\"\n",
    "    "
   ]
  },
  {
   "cell_type": "markdown",
   "id": "alleged-electricity",
   "metadata": {},
   "source": [
    "### Tests\n",
    "Testons maintenant notre implémentation"
   ]
  },
  {
   "cell_type": "code",
   "execution_count": null,
   "id": "alert-enemy",
   "metadata": {},
   "outputs": [],
   "source": [
    "arr = [64, 34, 25, 12, 22, 11, 90]\n",
    "\n",
    "print(\"Array before sorting is:\")\n",
    "print(arr)\n",
    " \n",
    "bubbleSort(arr)\n",
    " \n",
    "print (\"Sorted array is:\")\n",
    "print(arr)"
   ]
  },
  {
   "cell_type": "markdown",
   "id": "reserved-attention",
   "metadata": {},
   "source": [
    "## Insertion Sort\n",
    "### Implémentation"
   ]
  },
  {
   "cell_type": "code",
   "execution_count": null,
   "id": "judicial-syracuse",
   "metadata": {},
   "outputs": [],
   "source": [
    "def insertionSort(arr):\n",
    "    \"\"\"\n",
    "    Implémentation de l'insertion sort\n",
    "    \"\"\"\n",
    "    "
   ]
  },
  {
   "cell_type": "markdown",
   "id": "numerous-spotlight",
   "metadata": {},
   "source": [
    "###  Tests\n",
    "\n",
    "Testons maintenant notre fonction."
   ]
  },
  {
   "cell_type": "code",
   "execution_count": null,
   "id": "beautiful-batch",
   "metadata": {},
   "outputs": [],
   "source": [
    "arr = [12, 11, 13, 5, 6]\n",
    "\n",
    "print(\"Array before sorting is:\")\n",
    "print(arr)\n",
    " \n",
    "insertionSort(arr)\n",
    " \n",
    "print (\"Sorted array is:\")\n",
    "print(arr)"
   ]
  }
 ],
 "metadata": {
  "kernelspec": {
   "display_name": "Python 3",
   "language": "python",
   "name": "python3"
  },
  "language_info": {
   "codemirror_mode": {
    "name": "ipython",
    "version": 3
   },
   "file_extension": ".py",
   "mimetype": "text/x-python",
   "name": "python",
   "nbconvert_exporter": "python",
   "pygments_lexer": "ipython3",
   "version": "3.8.5"
  }
 },
 "nbformat": 4,
 "nbformat_minor": 5
}
