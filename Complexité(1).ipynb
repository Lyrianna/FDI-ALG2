{
 "cells": [
  {
   "cell_type": "markdown",
   "id": "cf930a7d",
   "metadata": {},
   "source": [
    "# Complexités"
   ]
  },
  {
   "cell_type": "code",
   "execution_count": 1,
   "id": "1e1b8e52",
   "metadata": {},
   "outputs": [],
   "source": [
    "import time"
   ]
  },
  {
   "cell_type": "markdown",
   "id": "a396bebf",
   "metadata": {},
   "source": [
    "## O(1)"
   ]
  },
  {
   "cell_type": "code",
   "execution_count": 2,
   "id": "f62a3f5f",
   "metadata": {},
   "outputs": [],
   "source": [
    "var1 = 2"
   ]
  },
  {
   "cell_type": "markdown",
   "id": "579588a8",
   "metadata": {},
   "source": [
    "## O(n)"
   ]
  },
  {
   "cell_type": "code",
   "execution_count": 3,
   "id": "0a9b3f2f",
   "metadata": {},
   "outputs": [
    {
     "name": "stdout",
     "output_type": "stream",
     "text": [
      "0\n",
      "1\n",
      "2\n",
      "3\n",
      "4\n"
     ]
    }
   ],
   "source": [
    "for i in range(5):\n",
    "    print(i)"
   ]
  },
  {
   "cell_type": "markdown",
   "id": "3387ddd9",
   "metadata": {},
   "source": [
    "## O(n²)"
   ]
  },
  {
   "cell_type": "code",
   "execution_count": 4,
   "id": "6797704a",
   "metadata": {},
   "outputs": [
    {
     "name": "stdout",
     "output_type": "stream",
     "text": [
      "0 0\n",
      "0 1\n",
      "0 2\n",
      "1 0\n",
      "1 1\n",
      "1 2\n",
      "2 0\n",
      "2 1\n",
      "2 2\n"
     ]
    }
   ],
   "source": [
    "for i in range(3):\n",
    "    for j in range(3):\n",
    "        print(i, j)"
   ]
  },
  {
   "cell_type": "markdown",
   "id": "a7379db5",
   "metadata": {},
   "source": [
    "## Exemple"
   ]
  },
  {
   "cell_type": "code",
   "execution_count": 5,
   "id": "24992899",
   "metadata": {},
   "outputs": [],
   "source": [
    "Tab1 = [1, 2, 3, 16, 18, 108,]\n",
    "Tab2 = [108, 1, 16, 2, 18, 3]"
   ]
  },
  {
   "cell_type": "code",
   "execution_count": 6,
   "id": "e703626a",
   "metadata": {},
   "outputs": [],
   "source": [
    "def naive_search(L, n) :\n",
    "    for element in L :\n",
    "        if element == n:\n",
    "            return"
   ]
  },
  {
   "cell_type": "markdown",
   "id": "1ea9803a",
   "metadata": {},
   "source": [
    "### Complexité au pire"
   ]
  },
  {
   "cell_type": "code",
   "execution_count": 7,
   "id": "7b2c9c7b",
   "metadata": {},
   "outputs": [
    {
     "name": "stdout",
     "output_type": "stream",
     "text": [
      "4.1961669921875e-05\n"
     ]
    }
   ],
   "source": [
    "start1 = time.time()\n",
    "naive_search(Tab1, 108)\n",
    "end1 = time.time()\n",
    "print(end1 - start1)"
   ]
  },
  {
   "cell_type": "markdown",
   "id": "68b67e24",
   "metadata": {},
   "source": [
    "### Complexité au mieux"
   ]
  },
  {
   "cell_type": "code",
   "execution_count": 8,
   "id": "8f31e89f",
   "metadata": {},
   "outputs": [
    {
     "name": "stdout",
     "output_type": "stream",
     "text": [
      "9.417533874511719e-05\n"
     ]
    }
   ],
   "source": [
    "start2 = time.time()\n",
    "naive_search(Tab2, 108)\n",
    "end2 = time.time()\n",
    "print(end2 - start2)"
   ]
  },
  {
   "cell_type": "markdown",
   "id": "f848216d",
   "metadata": {},
   "source": [
    "## Exemple 2 (Fibonacci)"
   ]
  },
  {
   "cell_type": "markdown",
   "id": "decebef9",
   "metadata": {},
   "source": [
    "### Fibonacci (itérative) Complexité n"
   ]
  },
  {
   "cell_type": "code",
   "execution_count": 17,
   "id": "327d9256",
   "metadata": {},
   "outputs": [],
   "source": [
    "def iter_fibo(n):\n",
    "    a, b = 0, 1\n",
    "    for i in range(0, n):\n",
    "        a, b = b, a + b\n",
    "    return a"
   ]
  },
  {
   "cell_type": "code",
   "execution_count": 18,
   "id": "605eb0da",
   "metadata": {},
   "outputs": [
    {
     "name": "stdout",
     "output_type": "stream",
     "text": [
      "6765\n",
      "0.00016307830810546875\n"
     ]
    }
   ],
   "source": [
    "start = time.time()\n",
    "print(iter_fibo(20))\n",
    "end = time.time()\n",
    "print(end - start)"
   ]
  },
  {
   "cell_type": "markdown",
   "id": "ee846fd0",
   "metadata": {},
   "source": [
    "### Fibonacci (récursive) Complexité Exponentielle"
   ]
  },
  {
   "cell_type": "code",
   "execution_count": 19,
   "id": "6feeeca0",
   "metadata": {},
   "outputs": [],
   "source": [
    "def rec_fibo(n):\n",
    "    if (n < 2) :\n",
    "        return n\n",
    "    else:\n",
    "        return rec_fibo(n - 1) + rec_fibo(n - 2)"
   ]
  },
  {
   "cell_type": "code",
   "execution_count": 20,
   "id": "5c9877c9",
   "metadata": {},
   "outputs": [
    {
     "name": "stdout",
     "output_type": "stream",
     "text": [
      "6765\n",
      "0.004674673080444336\n"
     ]
    }
   ],
   "source": [
    "start = time.time()\n",
    "print(rec_fibo(20))\n",
    "end = time.time()\n",
    "print(end - start)"
   ]
  },
  {
   "cell_type": "code",
   "execution_count": null,
   "id": "fb6e2777",
   "metadata": {},
   "outputs": [],
   "source": []
  }
 ],
 "metadata": {
  "kernelspec": {
   "display_name": "Python 3",
   "language": "python",
   "name": "python3"
  },
  "language_info": {
   "codemirror_mode": {
    "name": "ipython",
    "version": 3
   },
   "file_extension": ".py",
   "mimetype": "text/x-python",
   "name": "python",
   "nbconvert_exporter": "python",
   "pygments_lexer": "ipython3",
   "version": "3.6.13"
  }
 },
 "nbformat": 4,
 "nbformat_minor": 5
}
