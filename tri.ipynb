{
 "cells": [
  {
   "cell_type": "markdown",
   "id": "dirty-frame",
   "metadata": {},
   "source": [
    "# Algorithmes de tri\n",
    "\n",
    "Afin de voir si vous avez bien compris les notions algorithmiques de tri, nous allons vous demander de coder plusieurs fonctions. Principalement *insertion sort*, *bubble sort* et si vous vous sentez à la hauteur, *quick sort*.\n",
    "\n",
    "## Bubble Sort \n",
    "### Implémentation"
   ]
  },
  {
   "cell_type": "code",
   "execution_count": 1,
   "id": "informative-kentucky",
   "metadata": {
    "tags": [
     "hide-input"
    ]
   },
   "outputs": [],
   "source": [
    "def bubbleSort(arr):\n",
    "    n = len(arr)\n",
    " \n",
    "    # Traversez tous les éléments du tableau\n",
    "    for i in range(n-1):\n",
    "    # range(n) marcherait aussi mais exécuterai la boucle une fois de plus que nécessaire\n",
    " \n",
    "        # Les derniers i éléments sont déjà en place\n",
    "        for j in range(0, n-i-1):\n",
    " \n",
    "            # parcourez le tableau de 0 à n-i-1\n",
    "            # Échangez si l'élément trouvé est supérieur à l'élément suivant\n",
    "            if arr[j] > arr[j + 1] :\n",
    "                arr[j], arr[j + 1] = arr[j + 1], arr[j]"
   ]
  },
  {
   "cell_type": "markdown",
   "id": "ordered-mexican",
   "metadata": {},
   "source": [
    "### Tests\n",
    "Testons maintenant notre implémentation"
   ]
  },
  {
   "cell_type": "code",
   "execution_count": 2,
   "id": "korean-treasure",
   "metadata": {},
   "outputs": [
    {
     "name": "stdout",
     "output_type": "stream",
     "text": [
      "Array before sorting is:\n",
      "[64, 34, 25, 12, 22, 11, 90]\n",
      "Sorted array is:\n",
      "[11, 12, 22, 25, 34, 64, 90]\n"
     ]
    }
   ],
   "source": [
    "arr = [64, 34, 25, 12, 22, 11, 90]\n",
    "\n",
    "print(\"Array before sorting is:\")\n",
    "print(arr)\n",
    " \n",
    "bubbleSort(arr)\n",
    " \n",
    "print (\"Sorted array is:\")\n",
    "print(arr)"
   ]
  },
  {
   "cell_type": "markdown",
   "id": "sound-hundred",
   "metadata": {},
   "source": [
    "## Insertion Sort\n",
    "### Implémentation"
   ]
  },
  {
   "cell_type": "code",
   "execution_count": 3,
   "id": "visible-knowing",
   "metadata": {
    "tags": [
     "hide-input"
    ]
   },
   "outputs": [],
   "source": [
    "def insertionSort(arr):\n",
    " \n",
    "    # Traversez de 1 à len(arr)\n",
    "    for i in range(1, len(arr)):\n",
    " \n",
    "        key = arr[i]\n",
    " \n",
    "        # Déplacez les éléments de arr[0..i-1], qui sont\n",
    "        # supérieur à la clé, à une position devant\n",
    "        # de leur position actuelle\n",
    "        j = i - 1\n",
    "        while j >= 0 and key < arr[j] :\n",
    "                arr[j + 1] = arr[j]\n",
    "                j -= 1\n",
    "        arr[j + 1] = key"
   ]
  },
  {
   "cell_type": "markdown",
   "id": "lesser-galaxy",
   "metadata": {},
   "source": [
    "###  Tests\n",
    "\n",
    "Maintenant que nous l'avons implémenté, testons notre fonction."
   ]
  },
  {
   "cell_type": "code",
   "execution_count": 4,
   "id": "australian-intersection",
   "metadata": {},
   "outputs": [
    {
     "name": "stdout",
     "output_type": "stream",
     "text": [
      "Array before sorting is:\n",
      "[12, 11, 13, 5, 6]\n",
      "Sorted array is:\n",
      "[5, 6, 11, 12, 13]\n"
     ]
    }
   ],
   "source": [
    "arr = [12, 11, 13, 5, 6]\n",
    "\n",
    "print(\"Array before sorting is:\")\n",
    "print(arr)\n",
    " \n",
    "insertionSort(arr)\n",
    " \n",
    "print (\"Sorted array is:\")\n",
    "print(arr)"
   ]
  }
 ],
 "metadata": {
  "kernelspec": {
   "display_name": "Python 3",
   "language": "python",
   "name": "python3"
  },
  "language_info": {
   "codemirror_mode": {
    "name": "ipython",
    "version": 3
   },
   "file_extension": ".py",
   "mimetype": "text/x-python",
   "name": "python",
   "nbconvert_exporter": "python",
   "pygments_lexer": "ipython3",
   "version": "3.8.5"
  }
 },
 "nbformat": 4,
 "nbformat_minor": 5
}
